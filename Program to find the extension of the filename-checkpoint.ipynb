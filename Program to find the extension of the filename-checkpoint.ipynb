{
 "cells": [
  {
   "cell_type": "markdown",
   "id": "70d52187",
   "metadata": {},
   "source": [
    "# Program to find the extension of the file\n"
   ]
  },
  {
   "cell_type": "code",
   "execution_count": null,
   "id": "a5cf6225",
   "metadata": {},
   "outputs": [],
   "source": [
    "x = input(\"Input the file name : \")\n",
    "v = x.split(\".\")\n",
    "b = repr(v[1])\n",
    "\n",
    "print(\"The extension of the file {} is {}\".format(x,b))\n",
    "if(b[1:len(b)-1]=='py'):\n",
    "    print(\"The Extension of the file is : Python\")\n",
    "else:\n",
    "    print(\"bye\")\n"
   ]
  }
 ],
 "metadata": {
  "kernelspec": {
   "display_name": "Python 3",
   "language": "python",
   "name": "python3"
  },
  "language_info": {
   "codemirror_mode": {
    "name": "ipython",
    "version": 3
   },
   "file_extension": ".py",
   "mimetype": "text/x-python",
   "name": "python",
   "nbconvert_exporter": "python",
   "pygments_lexer": "ipython3",
   "version": "3.8.8"
  }
 },
 "nbformat": 4,
 "nbformat_minor": 5
}
