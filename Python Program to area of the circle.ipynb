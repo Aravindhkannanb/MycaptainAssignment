{
 "cells": [
  {
   "cell_type": "markdown",
   "id": "3bb9536a",
   "metadata": {},
   "source": [
    "# Area of the circle"
   ]
  },
  {
   "cell_type": "code",
   "execution_count": 2,
   "id": "5ff7bb33",
   "metadata": {},
   "outputs": [
    {
     "name": "stdout",
     "output_type": "stream",
     "text": [
      "Input the radius of the circle : 2\n",
      "The output of the circle with radius 2.0 is 12.571428571428571\n"
     ]
    }
   ],
   "source": [
    "Radius = float(input(\"Input the radius of the circle : \"))\n",
    "Area_of_the_circle = (22/7)*(Radius**2)\n",
    "\n",
    "print(\"The output of the circle with radius {} is {}\".format(Radius,Area_of_the_circle))"
   ]
  }
 ],
 "metadata": {
  "kernelspec": {
   "display_name": "Python 3",
   "language": "python",
   "name": "python3"
  },
  "language_info": {
   "codemirror_mode": {
    "name": "ipython",
    "version": 3
   },
   "file_extension": ".py",
   "mimetype": "text/x-python",
   "name": "python",
   "nbconvert_exporter": "python",
   "pygments_lexer": "ipython3",
   "version": "3.8.8"
  }
 },
 "nbformat": 4,
 "nbformat_minor": 5
}
